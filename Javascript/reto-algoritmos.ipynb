{
 "cells": [
  {
   "cell_type": "markdown",
   "id": "victorian-channels",
   "metadata": {},
   "source": [
    "# Evaluación Final\n",
    "\n",
    "* Trabajar en jupyter notebook ( ivestigar la instalación del kernet de javascript ). Si es que no se considera este punto, la evaluación será en base a 15.\n",
    "* Trabajar con orden\n",
    "* Comentar el código.\n",
    "* Plazo de entrega viernes 02/07/2021\n",
    "* Si desean su certificación adicional de Python. Desarrollar ademas el códgido en Python.\n",
    "\n",
    "Atte. Lucki Alan Fernandez Salcedo"
   ]
  },
  {
   "cell_type": "markdown",
   "id": "fleet-berkeley",
   "metadata": {},
   "source": [
    "#### [ 01 ] Ejercicio ( 3 ptos )\n",
    "```\n",
    "Una gran empresa de químicos paga a sus vendedores mediante comisiones. Los vendedores reciben $200 por semana,\n",
    "más el 9% de sus ventas brutas durante esa semana. Por ejemplo, un vendedor que vende $5000 de mercancía en una semana,\n",
    "recibe $200 más el 9% de $5000, o un total de $650. Desarrolle un programa en javascript que utilice una instrucción while para\n",
    "recibir como entrada las ventas brutas de cada vendedor de la semana anterior, y que calcule y muestre los ingresos de ese ven-\n",
    "dedor. Procese las cifras de un vendedor a la vez.\n",
    "\n",
    "Ejemplo de salida:\n",
    "==================\n",
    "Introduzca las ventas en dolares (-1 para salir): 5000.00\n",
    "El salario es: $650.00\n",
    "Introduzca las ventas en dolares (-1 para salir): 6000.00\n",
    "El salario es: $740.00\n",
    "Introduzca las ventas en dolares (-1 para salir): 7000.00\n",
    "El salario es: $830.00\n",
    "Introduzca las ventas en dolares (-1 para salir): -1\n",
    "\n",
    "```"
   ]
  },
  {
   "cell_type": "code",
   "execution_count": null,
   "id": "operating-acrylic",
   "metadata": {},
   "outputs": [],
   "source": [
    "//[ 01 ]  Ejercicio ( 4 ptos )"
   ]
  },
  {
   "cell_type": "markdown",
   "id": "entire-improvement",
   "metadata": {},
   "source": [
    "#### [ 02 ]  Ejercicio ( 3 ptos )\n",
    "```\n",
    "Escriba un programa que simule el lanzamiento de monedas. Cada vez que se lance la moneda, el programa debe\n",
    "imprimir Cara o Cruz . Deje que el programa lance la moneda 100 veces y cuente el número de veces que aparezca cada uno de\n",
    "los lados de la moneda. Imprima los resultados. El programa debe llamar a un método separado, llamado tirar , que no reciba\n",
    "argumentos y devuelva 0 en caso de cara y 1 en caso de cruz. [Nota: si el programa simula en forma realista el lanzamiento de\n",
    "monedas, cada lado de la moneda debe aparecer aproximadamente la mitad del tiempo].\n",
    "```"
   ]
  },
  {
   "cell_type": "code",
   "execution_count": null,
   "id": "isolated-tribute",
   "metadata": {},
   "outputs": [],
   "source": [
    "//[ 02 ]  Ejercicio ( 4 ptos )"
   ]
  },
  {
   "cell_type": "markdown",
   "id": "lucky-theater",
   "metadata": {},
   "source": [
    "#### [ 03 ]  Ejercicio ( 4 ptos )\n",
    "```\n",
    "(Mayor común divisor recursivo) El mayor común divisor de los enteros x y y es el entero más grande que se puede\n",
    "dividir entre x y y de manera uniforme. Escriba una función recursiva llamado mcd , que devuelva el mayor común divisor de\n",
    "x y y , deﬁ nida mediante la recursividad, de la siguiente manera: si y es igual a 0 , entonces mcd( x, y ) es x ; en caso contrario,\n",
    "mcd( x, y ) es mcd( y, x % y ) , donde % es el operador módulo. [Nota: para este algoritmo, x debe ser mayor que y .]\n",
    "```"
   ]
  },
  {
   "cell_type": "code",
   "execution_count": null,
   "id": "structured-nitrogen",
   "metadata": {},
   "outputs": [],
   "source": [
    "//[ 03 ]  Ejercicio ( 4 ptos )"
   ]
  },
  {
   "cell_type": "markdown",
   "id": "compound-florence",
   "metadata": {},
   "source": [
    "#### [ 04 ] Ejercicio ( 4 ptos )\n",
    "```\n",
    "(Números perfectos) Se dice que un número entero es un número perfecto si la suma de sus divisores, incluyendo 1 (pero\n",
    "no el número en sí), es igual al número. Por ejemplo, 6 es un número perfecto ya que 6 = 1 + 2 + 3. Escriba una función llamada\n",
    "perfecto que determine si el parámetro numero es un número perfecto. Use esta función en un programa que determine e impri-\n",
    "ma todos los números perfectos entre 1 y 1000. Imprima los divisores de cada número perfecto para conﬁ rmar que el número sea\n",
    "realmente perfecto. Ponga a prueba el poder de su computadora, evaluando números mucho más grandes que 1000.\n",
    "```"
   ]
  },
  {
   "cell_type": "code",
   "execution_count": null,
   "id": "restricted-nature",
   "metadata": {},
   "outputs": [],
   "source": [
    "//[ 04 ]  Ejercicio ( 4 ptos )"
   ]
  },
  {
   "cell_type": "markdown",
   "id": "capital-yemen",
   "metadata": {},
   "source": [
    "#### [ 05 ] Ejercicio ( 6 ptos )\n",
    "\n",
    "```\n",
    "Implementar el metodo: Ordenación por inserción.\n",
    "\n",
    "Entrada : un vector de longitud n.\n",
    "Salida  : el vector ordenado.\n",
    "```\n"
   ]
  },
  {
   "cell_type": "code",
   "execution_count": null,
   "id": "sonic-farmer",
   "metadata": {},
   "outputs": [],
   "source": [
    "//[ 05 ]  Ejercicio ( 4 ptos )"
   ]
  },
  {
   "cell_type": "markdown",
   "id": "signed-state",
   "metadata": {},
   "source": [
    "\n",
    "#### [ 06 ] Adicional - Opcional ( 16 ptos )\n",
    "\n",
    "```\n",
    "Implementar el algorimo de multilicación de matrices \n",
    "```"
   ]
  },
  {
   "cell_type": "code",
   "execution_count": null,
   "id": "august-spare",
   "metadata": {},
   "outputs": [],
   "source": [
    "//[ 06 ]  Adicional - Opcional ( 16 ptos )"
   ]
  }
 ],
 "metadata": {
  "kernelspec": {
   "display_name": "JavaScript",
   "language": "javascript",
   "name": "jslab"
  },
  "language_info": {
   "file_extension": ".js",
   "mimetype": "text/javascript",
   "name": "javascript",
   "version": ""
  }
 },
 "nbformat": 4,
 "nbformat_minor": 5
}
